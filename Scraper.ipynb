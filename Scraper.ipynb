{
  "nbformat": 4,
  "nbformat_minor": 0,
  "metadata": {
    "colab": {
      "name": "Scraper.ipynb",
      "provenance": [],
      "collapsed_sections": []
    },
    "kernelspec": {
      "name": "python3",
      "display_name": "Python 3"
    },
    "language_info": {
      "name": "python"
    }
  },
  "cells": [
    {
      "cell_type": "code",
      "metadata": {
        "id": "I3oTO9BTp8ZV"
      },
      "source": [
        "import os\n",
        "os.mkdir('data')"
      ],
      "execution_count": null,
      "outputs": []
    },
    {
      "cell_type": "code",
      "metadata": {
        "id": "zdA-UyOcdSPu"
      },
      "source": [
        "from bs4 import BeautifulSoup\n",
        "import requests\n",
        "import json\n",
        "import os.path\n",
        "import sqlite3\n",
        "from sqlite3 import Error\n",
        "\n",
        "data = {}\n",
        "data['datos'] = []\n",
        "\n",
        "url=\"https://www.bbc.com/mundo/topics/cpzd498zkxgt\"\n",
        "r = requests.get(url)\n",
        "\n",
        "soup= BeautifulSoup(r.content, \"lxml\")\n",
        "\n",
        "titulo = soup.findAll('a', attrs={'class':'qa-heading-link lx-stream-post__header-link'})\n",
        "for titulos in titulo:\n",
        "        #print(titulos.text)\n",
        "        pass\n",
        "\n",
        "cuerpo_noticia = soup.findAll('div', attrs={'class':'lx-stream-related-story'})\n",
        "for cuerpos in cuerpo_noticia:\n",
        "        #print(cuerpos.text)\n",
        "        pass\n",
        "\n",
        "link = soup.findAll('a',attrs={'class':'qa-story-cta-link'})\n",
        "for links in link:\n",
        "       #print(links['href'])\n",
        "       pass \n",
        "\n",
        "       data['datos'].append({\n",
        "        'pagina': soup.title.string,\n",
        "        'titulo': titulos.text,\n",
        "        'cuerpo': cuerpos.text,\n",
        "        'link':  links['href'],\n",
        "                              })\n",
        "\n",
        "dir = os.path.dirname(os.path.abspath('__file__')) + '/data'\n",
        "\n",
        "file_name = \"datos.json\"\n",
        "with open(os.path.join(dir, file_name), 'w') as file:\n",
        "        json.dump(data, file, indent=4, ensure_ascii=False)"
      ],
      "execution_count": null,
      "outputs": []
    },
    {
      "cell_type": "code",
      "metadata": {
        "id": "HS7qA1gauZEr"
      },
      "source": [
        "conn = sqlite3.connect('scraper.db') \n",
        "c = conn.cursor() \n",
        "\n",
        "c.execute(\"CREATE TABLE NOTICAS(titulo,cuerpo,link);\")\n",
        "\n",
        "conn.commit()"
      ],
      "execution_count": null,
      "outputs": []
    },
    {
      "cell_type": "code",
      "metadata": {
        "colab": {
          "base_uri": "https://localhost:8080/"
        },
        "id": "lNYvXQiruu_2",
        "outputId": "5e2f5cac-b200-47e3-870c-3818c19e7cef"
      },
      "source": [
        "def sql_connection():\n",
        "\n",
        "    try:\n",
        "        conn = sqlite3.connect(':memory:')\n",
        "        print(\"Successfully Connected to SQLite\")\n",
        "\n",
        "    except Error:\n",
        "        print(\"Failed to insert data into sqlite table\")\n",
        "    finally:\n",
        "        conn.close()\n",
        "sql_connection()"
      ],
      "execution_count": null,
      "outputs": [
        {
          "output_type": "stream",
          "text": [
            "Successfully Connected to SQLite\n"
          ],
          "name": "stdout"
        }
      ]
    },
    {
      "cell_type": "code",
      "metadata": {
        "id": "JYfoMxQ_uven"
      },
      "source": [
        "with open('datos.json','r') as fin:\n",
        "\n",
        "    dr = csv.DictReader(fin)\n",
        "    to_db=[(i['titulo'],i['cuerpo'],i['link']) for i in dr]\n",
        "\n",
        "    c.executemany(\"INSERT INTO NOTICIAS (titulo,cuerpo,link) VALUES (?,?,?);\",to_db)\n",
        "\n",
        "    conn.commit()\n",
        "    conn.close()"
      ],
      "execution_count": null,
      "outputs": []
    }
  ]
}